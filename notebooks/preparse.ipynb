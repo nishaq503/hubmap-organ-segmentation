{
 "cells": [
  {
   "cell_type": "markdown",
   "source": [
    "# Experiments with preprocessing the data"
   ],
   "metadata": {
    "collapsed": false,
    "pycharm": {
     "name": "#%% md\n"
    }
   }
  },
  {
   "cell_type": "code",
   "execution_count": 1,
   "outputs": [],
   "source": [
    "import numpy\n",
    "import pandas\n",
    "from matplotlib import pyplot\n",
    "\n",
    "import hubmap"
   ],
   "metadata": {
    "collapsed": false,
    "pycharm": {
     "name": "#%%\n"
    }
   }
  },
  {
   "cell_type": "code",
   "execution_count": 2,
   "outputs": [
    {
     "data": {
      "text/plain": "      id     organ data_source  img_height  img_width  pixel_size  \\\n0  10044  prostate         HPA        3000       3000         0.4   \n1  10274  prostate         HPA        3000       3000         0.4   \n2  10392    spleen         HPA        3000       3000         0.4   \n3  10488      lung         HPA        3000       3000         0.4   \n4  10610    spleen         HPA        3000       3000         0.4   \n\n   tissue_thickness                                                rle   age  \\\n0                 4  1459676 77 1462675 82 1465674 87 1468673 92 14...  37.0   \n1                 4  715707 2 718705 8 721703 11 724701 18 727692 3...  76.0   \n2                 4  1228631 20 1231629 24 1234624 40 1237623 47 12...  82.0   \n3                 4  3446519 15 3449517 17 3452514 20 3455510 24 34...  78.0   \n4                 4  478925 68 481909 87 484893 105 487863 154 4908...  21.0   \n\n      sex  \n0    Male  \n1    Male  \n2    Male  \n3    Male  \n4  Female  ",
      "text/html": "<div>\n<style scoped>\n    .dataframe tbody tr th:only-of-type {\n        vertical-align: middle;\n    }\n\n    .dataframe tbody tr th {\n        vertical-align: top;\n    }\n\n    .dataframe thead th {\n        text-align: right;\n    }\n</style>\n<table border=\"1\" class=\"dataframe\">\n  <thead>\n    <tr style=\"text-align: right;\">\n      <th></th>\n      <th>id</th>\n      <th>organ</th>\n      <th>data_source</th>\n      <th>img_height</th>\n      <th>img_width</th>\n      <th>pixel_size</th>\n      <th>tissue_thickness</th>\n      <th>rle</th>\n      <th>age</th>\n      <th>sex</th>\n    </tr>\n  </thead>\n  <tbody>\n    <tr>\n      <th>0</th>\n      <td>10044</td>\n      <td>prostate</td>\n      <td>HPA</td>\n      <td>3000</td>\n      <td>3000</td>\n      <td>0.4</td>\n      <td>4</td>\n      <td>1459676 77 1462675 82 1465674 87 1468673 92 14...</td>\n      <td>37.0</td>\n      <td>Male</td>\n    </tr>\n    <tr>\n      <th>1</th>\n      <td>10274</td>\n      <td>prostate</td>\n      <td>HPA</td>\n      <td>3000</td>\n      <td>3000</td>\n      <td>0.4</td>\n      <td>4</td>\n      <td>715707 2 718705 8 721703 11 724701 18 727692 3...</td>\n      <td>76.0</td>\n      <td>Male</td>\n    </tr>\n    <tr>\n      <th>2</th>\n      <td>10392</td>\n      <td>spleen</td>\n      <td>HPA</td>\n      <td>3000</td>\n      <td>3000</td>\n      <td>0.4</td>\n      <td>4</td>\n      <td>1228631 20 1231629 24 1234624 40 1237623 47 12...</td>\n      <td>82.0</td>\n      <td>Male</td>\n    </tr>\n    <tr>\n      <th>3</th>\n      <td>10488</td>\n      <td>lung</td>\n      <td>HPA</td>\n      <td>3000</td>\n      <td>3000</td>\n      <td>0.4</td>\n      <td>4</td>\n      <td>3446519 15 3449517 17 3452514 20 3455510 24 34...</td>\n      <td>78.0</td>\n      <td>Male</td>\n    </tr>\n    <tr>\n      <th>4</th>\n      <td>10610</td>\n      <td>spleen</td>\n      <td>HPA</td>\n      <td>3000</td>\n      <td>3000</td>\n      <td>0.4</td>\n      <td>4</td>\n      <td>478925 68 481909 87 484893 105 487863 154 4908...</td>\n      <td>21.0</td>\n      <td>Female</td>\n    </tr>\n  </tbody>\n</table>\n</div>"
     },
     "execution_count": 2,
     "metadata": {},
     "output_type": "execute_result"
    }
   ],
   "source": [
    "train_df = pandas.read_csv(hubmap.utils.paths.TRAIN_CSV)\n",
    "train_df.head()"
   ],
   "metadata": {
    "collapsed": false,
    "pycharm": {
     "name": "#%%\n"
    }
   }
  },
  {
   "cell_type": "code",
   "execution_count": 3,
   "outputs": [
    {
     "data": {
      "text/plain": "[10044,\n 10274,\n 10392,\n 10488,\n 10610,\n 10611,\n 10651,\n 10666,\n 10703,\n 10892,\n 10912,\n 10971,\n 10992,\n 11064,\n 1123,\n 11448,\n 11497,\n 1157,\n 11629,\n 11645,\n 11662,\n 1168,\n 1184,\n 11890,\n 12026,\n 12174,\n 1220,\n 12233,\n 12244,\n 1229,\n 12452,\n 12466,\n 12471,\n 12476,\n 12483,\n 127,\n 12784,\n 12827,\n 13034,\n 13189,\n 13260,\n 13396,\n 13483,\n 13507,\n 13942,\n 14183,\n 14388,\n 14396,\n 144,\n 14407,\n 14674,\n 14756,\n 1500,\n 15005,\n 15067,\n 15124,\n 15192,\n 15329,\n 15499,\n 15551,\n 15706,\n 15732,\n 15787,\n 15842,\n 15860,\n 16149,\n 16163,\n 16214,\n 16216,\n 16362,\n 164,\n 16564,\n 16609,\n 16659,\n 16711,\n 16728,\n 16890,\n 1690,\n 17126,\n 17143,\n 17187,\n 1731,\n 17422,\n 17455,\n 17828,\n 18121,\n 18401,\n 18422,\n 18426,\n 18445,\n 18449,\n 1850,\n 18777,\n 1878,\n 18792,\n 18900,\n 19048,\n 19084,\n 19179,\n 19360,\n 19377,\n 19507,\n 19533,\n 1955,\n 19569,\n 19997,\n 20247,\n 203,\n 20302,\n 20428,\n 20440,\n 20478,\n 20520,\n 20563,\n 2079,\n 20794,\n 20831,\n 20955,\n 21021,\n 21039,\n 21086,\n 21112,\n 21129,\n 21155,\n 21195,\n 21321,\n 21358,\n 21501,\n 2174,\n 21812,\n 22016,\n 22035,\n 22059,\n 22133,\n 22236,\n 22310,\n 22544,\n 22718,\n 22741,\n 2279,\n 22953,\n 22995,\n 23009,\n 23051,\n 23094,\n 23243,\n 23252,\n 2344,\n 23640,\n 23665,\n 23760,\n 23828,\n 23880,\n 23959,\n 23961,\n 24097,\n 24100,\n 24194,\n 24222,\n 2424,\n 24241,\n 24269,\n 2447,\n 24522,\n 24782,\n 24833,\n 24961,\n 2500,\n 25298,\n 25430,\n 25472,\n 25516,\n 25620,\n 25641,\n 25689,\n 25945,\n 26101,\n 26174,\n 26319,\n 26480,\n 26664,\n 2668,\n 26780,\n 26886,\n 2696,\n 26982,\n 27128,\n 27232,\n 27298,\n 27340,\n 27350,\n 27468,\n 27471,\n 27587,\n 27616,\n 27781,\n 27803,\n 27861,\n 27879,\n 2793,\n 28045,\n 28052,\n 28126,\n 28189,\n 28262,\n 28318,\n 28429,\n 28436,\n 28622,\n 28657,\n 2874,\n 28748,\n 28791,\n 28823,\n 28940,\n 28963,\n 29143,\n 29180,\n 29213,\n 29223,\n 29238,\n 29296,\n 29307,\n 29424,\n 2943,\n 29610,\n 29690,\n 29809,\n 29820,\n 30080,\n 30084,\n 30194,\n 30201,\n 30224,\n 30250,\n 30294,\n 30355,\n 30394,\n 30414,\n 30424,\n 30474,\n 30500,\n 3054,\n 3057,\n 30581,\n 30765,\n 3083,\n 30876,\n 31139,\n 31290,\n 31406,\n 31571,\n 31675,\n 31698,\n 31709,\n 31727,\n 31733,\n 31799,\n 31800,\n 31898,\n 31958,\n 32009,\n 32126,\n 32151,\n 32231,\n 32325,\n 32412,\n 32527,\n 32741,\n 3303,\n 3409,\n 351,\n 3959,\n 4062,\n 4066,\n 4265,\n 4301,\n 435,\n 4404,\n 4412,\n 4561,\n 4639,\n 4658,\n 4776,\n 4777,\n 4802,\n 4944,\n 5086,\n 5099,\n 5102,\n 5287,\n 5317,\n 5552,\n 5583,\n 5777,\n 5785,\n 5832,\n 5932,\n 5995,\n 6021,\n 6120,\n 6121,\n 62,\n 6318,\n 6390,\n 660,\n 6611,\n 6722,\n 6730,\n 676,\n 6794,\n 6807,\n 686,\n 7169,\n 7359,\n 737,\n 7397,\n 7569,\n 7706,\n 7902,\n 7970,\n 8116,\n 8151,\n 8222,\n 8227,\n 8231,\n 8343,\n 8388,\n 8402,\n 8450,\n 8502,\n 8638,\n 8752,\n 8842,\n 8876,\n 8894,\n 9231,\n 928,\n 9358,\n 9387,\n 9407,\n 9437,\n 9445,\n 9450,\n 9453,\n 9470,\n 9517,\n 9769,\n 9777,\n 9791,\n 9904]"
     },
     "execution_count": 3,
     "metadata": {},
     "output_type": "execute_result"
    }
   ],
   "source": [
    "ids = train_df.id.to_list()"
   ],
   "metadata": {
    "collapsed": false,
    "pycharm": {
     "name": "#%%\n"
    }
   }
  },
  {
   "cell_type": "code",
   "execution_count": 4,
   "outputs": [],
   "source": [
    "paths = [hubmap.utils.paths.TRAIN_IMAGES.joinpath(f'{i}.tiff') for i in ids]"
   ],
   "metadata": {
    "collapsed": false,
    "pycharm": {
     "name": "#%%\n"
    }
   }
  },
  {
   "cell_type": "code",
   "execution_count": 6,
   "outputs": [],
   "source": [
    "for path in paths:\n",
    "    assert path.exists()"
   ],
   "metadata": {
    "collapsed": false,
    "pycharm": {
     "name": "#%%\n"
    }
   }
  },
  {
   "cell_type": "code",
   "execution_count": 8,
   "outputs": [
    {
     "data": {
      "text/plain": "(10912,\n PosixPath('/Users/najibishaq/Documents/kaggle/input/hubmap-organ-segmentation/train_images/10912.tiff'))"
     },
     "execution_count": 8,
     "metadata": {},
     "output_type": "execute_result"
    }
   ],
   "source": [
    "index = 10\n",
    "i = ids[index]\n",
    "path = paths[index]\n",
    "\n",
    "i, path"
   ],
   "metadata": {
    "collapsed": false,
    "pycharm": {
     "name": "#%%\n"
    }
   }
  },
  {
   "cell_type": "code",
   "execution_count": 10,
   "outputs": [
    {
     "data": {
      "text/plain": "(3000, 3000, 3)"
     },
     "execution_count": 10,
     "metadata": {},
     "output_type": "execute_result"
    }
   ],
   "source": [
    "image = numpy.squeeze(pyplot.imread(path))\n",
    "(x_end, y_end, num_channels) = image.shape\n",
    "x_end, y_end, num_channels"
   ],
   "metadata": {
    "collapsed": false,
    "pycharm": {
     "name": "#%%\n"
    }
   }
  },
  {
   "cell_type": "code",
   "execution_count": 14,
   "outputs": [],
   "source": [
    "rle = train_df[train_df.id == i]['rle'].iloc[-1]\n",
    "mask = hubmap.utils.helpers.rle_to_mask(rle, x_end, y_end)"
   ],
   "metadata": {
    "collapsed": false,
    "pycharm": {
     "name": "#%%\n"
    }
   }
  },
  {
   "cell_type": "code",
   "execution_count": 17,
   "outputs": [],
   "source": [
    "tile_stride = 256\n",
    "train_out_dir = hubmap.utils.paths.WORKING_DIR.joinpath('train', 'intensity')"
   ],
   "metadata": {
    "collapsed": false,
    "pycharm": {
     "name": "#%%\n"
    }
   }
  },
  {
   "cell_type": "code",
   "execution_count": 18,
   "outputs": [],
   "source": [
    "tile_template = numpy.zeros((tile_stride, tile_stride), dtype=numpy.float32)\n",
    "\n",
    "for c in range(num_channels):\n",
    "    min_intensity = numpy.min(image[..., c])\n",
    "    max_intensity = numpy.max(image[..., c])\n",
    "\n",
    "    for x, x_min in enumerate(range(0, x_end, tile_stride)):\n",
    "        x_max = min(x_end, x_min + tile_stride)\n",
    "\n",
    "        for y, y_min in enumerate(range(0, y_end, tile_stride)):\n",
    "            y_max = min(y_end, y_min + tile_stride)\n",
    "\n",
    "            in_tile = image[x_min:x_max, y_min:y_max, c]\n",
    "            in_tile = (in_tile - min_intensity) / (max_intensity - min_intensity + hubmap.utils.constants.EPSILON)\n",
    "\n",
    "            out_tile = numpy.zeros_like(tile_template)\n",
    "            out_tile[:x_max - x_min, :y_max - y_min] = in_tile[:]\n",
    "\n",
    "            name = f'{i}_x{x:02d}_y{y:02d}_c{c:1d}.npy'\n",
    "            out_path = train_out_dir.joinpath(name)\n",
    "            numpy.save(\n",
    "                file=str(out_path),\n",
    "                arr=out_tile,\n",
    "                allow_pickle=False,\n",
    "                fix_imports=False,\n",
    "            )"
   ],
   "metadata": {
    "collapsed": false,
    "pycharm": {
     "name": "#%%\n"
    }
   }
  },
  {
   "cell_type": "code",
   "execution_count": 19,
   "outputs": [],
   "source": [
    "train_out_dir = hubmap.utils.paths.WORKING_DIR.joinpath('train', 'labels')\n",
    "tile_template = numpy.zeros((tile_stride, tile_stride), dtype=numpy.uint8)\n",
    "\n",
    "for x, x_min in enumerate(range(0, x_end, tile_stride)):\n",
    "    x_max = min(x_end, x_min + tile_stride)\n",
    "\n",
    "    for y, y_min in enumerate(range(0, y_end, tile_stride)):\n",
    "        y_max = min(y_end, y_min + tile_stride)\n",
    "\n",
    "        in_tile = mask[x_min:x_max, y_min:y_max]\n",
    "\n",
    "        out_tile = numpy.zeros_like(tile_template)\n",
    "        out_tile[:x_max - x_min, :y_max - y_min] = in_tile[:]\n",
    "\n",
    "        name = f'{i}_x{x:02d}_y{y:02d}.npy'\n",
    "        out_path = train_out_dir.joinpath(name)\n",
    "        numpy.save(\n",
    "            file=str(out_path),\n",
    "            arr=out_tile,\n",
    "            allow_pickle=False,\n",
    "            fix_imports=False,\n",
    "        )"
   ],
   "metadata": {
    "collapsed": false,
    "pycharm": {
     "name": "#%%\n"
    }
   }
  },
  {
   "cell_type": "code",
   "execution_count": null,
   "outputs": [],
   "source": [],
   "metadata": {
    "collapsed": false,
    "pycharm": {
     "name": "#%%\n"
    }
   }
  }
 ],
 "metadata": {
  "kernelspec": {
   "name": "hubmap",
   "language": "python",
   "display_name": "hubmap"
  },
  "language_info": {
   "codemirror_mode": {
    "name": "ipython",
    "version": 2
   },
   "file_extension": ".py",
   "mimetype": "text/x-python",
   "name": "python",
   "nbconvert_exporter": "python",
   "pygments_lexer": "ipython2",
   "version": "2.7.6"
  }
 },
 "nbformat": 4,
 "nbformat_minor": 0
}